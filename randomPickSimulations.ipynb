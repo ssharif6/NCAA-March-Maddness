{
 "cells": [
  {
   "cell_type": "code",
   "execution_count": 1,
   "metadata": {
    "collapsed": true
   },
   "outputs": [],
   "source": [
    "import numpy\n",
    "import pandas as pd\n",
    "import random\n",
    "from scipy import stats\n",
    "import matplotlib.mlab as mlab\n",
    "import math"
   ]
  },
  {
   "cell_type": "code",
   "execution_count": 76,
   "metadata": {
    "collapsed": true
   },
   "outputs": [],
   "source": [
    "# Create id to team name mappings\n",
    "teamNames = pd.read_csv('./ncaa-data/Teams.csv')\n",
    "def teamIDNameMapping():\n",
    "    team_id_map = {}\n",
    "    for index, row in teamNames.iterrows():\n",
    "        team_id_map[row['TeamID']] = row['TeamName']\n",
    "    \n",
    "    return team_id_map\n",
    "\n",
    "team_id_map = teamIDNameMapping()"
   ]
  },
  {
   "cell_type": "code",
   "execution_count": 77,
   "metadata": {
    "collapsed": true
   },
   "outputs": [],
   "source": [
    "# Find tounament data of given year\n",
    "def filterTourneyDataByYear(year):\n",
    "\n",
    "    tourney_data = pd.read_csv('./ncaa-data/NCAATourneyDetailedResults.csv')\n",
    "    tourney_data = tourney_data[tourney_data.Season == year]\n",
    "    \n",
    "    return tourney_data\n",
    "\n",
    "# Figure out winners\n",
    "def getWinnersList(tourney_data):\n",
    "    winners = []\n",
    "\n",
    "    tourney_data_grouped = tourney_data[4:].groupby('WTeamID').size().reset_index(name='NumWins')\n",
    "    for index, row in tourney_data_grouped.iterrows():\n",
    "        teamName = team_id_map[row['WTeamID']]\n",
    "        wins = row['NumWins']\n",
    "        if len(winners) == 0:\n",
    "            winners.append([])\n",
    "        winners[0].append(teamName)\n",
    "        if wins > 1:\n",
    "            if len(winners) == 1:\n",
    "                winners.append([])\n",
    "            winners[1].append(teamName)\n",
    "        if wins > 2:\n",
    "            if len(winners) == 2:\n",
    "                winners.append([])\n",
    "            winners[2].append(teamName)\n",
    "        if wins > 3:\n",
    "            if len(winners) == 3:\n",
    "                winners.append([])\n",
    "            winners[3].append(teamName)\n",
    "        if wins > 4:\n",
    "            if len(winners) == 4:\n",
    "                winners.append([])\n",
    "            winners[4].append(teamName)\n",
    "        if wins > 5:\n",
    "            if len(winners) == 5:\n",
    "                winners.append([])\n",
    "            winners[5].append(teamName)\n",
    "    \n",
    "    return winners"
   ]
  },
  {
   "cell_type": "code",
   "execution_count": 78,
   "metadata": {
    "collapsed": true
   },
   "outputs": [],
   "source": [
    "# Method that takes in season's tournament data, id to name mapping of teams\n",
    "def calcBracketScore(tourney_data):\n",
    "    \n",
    "    winners = getWinnersList(tourney_data)\n",
    "    \n",
    "    # First four rows is 'first four' and not in actual bracket\n",
    "    firstFour = tourney_data[:4]\n",
    "    mainTourney = tourney_data[4:]\n",
    "    \n",
    "    tourney_seeds = pd.read_csv('./ncaa-data/TourneySeeds.csv')\n",
    "    \n",
    "    tourney = [-1] * max(tourney_seeds['Team'])\n",
    "\n",
    "    # Look at first four teams\n",
    "    for index, row in firstFour.iterrows():\n",
    "        index1 = int(row['WTeamID'])\n",
    "        index2 = int(row['LTeamID'])\n",
    "        team1Name = team_id_map[index1]\n",
    "        team2Name = team_id_map[index2]\n",
    "\n",
    "        if random.randint(0,1): # team 1 randomly wins\n",
    "            tourney[index2] = index1\n",
    "        else:\n",
    "            tourney[index1] = index2\n",
    "\n",
    "    # MAIN TOURNAMENT \n",
    "    score = 0\n",
    "    for index, row in mainTourney.iterrows():\n",
    "        index1 = int(row['WTeamID'])\n",
    "        index2 = int(row['LTeamID'])\n",
    "        while tourney[index1] > 0:\n",
    "            index1 = tourney[index1]\n",
    "        while tourney[index2] > 0:\n",
    "            index2 = tourney[index2]\n",
    "        team1Name = team_id_map[index1]\n",
    "        team2Name = team_id_map[index2]\n",
    "\n",
    "        if random.randint(0,1): # team1 randomly wins\n",
    "            tourney[index2] = index1\n",
    "            tourney[index1] = tourney[index1] - 1\n",
    "            if team1Name in winners[abs(tourney[index1]) - 2]:\n",
    "                score += 2**(abs(tourney[index1]) - 2) * 10\n",
    "\n",
    "        else: #team2 would win\n",
    "            tourney[index1] = index2\n",
    "            tourney[index2] = tourney[index2] - 1\n",
    "            if team2Name in winners[abs(tourney[index2]) - 2]:\n",
    "                score += 2**(abs(tourney[index2]) - 2) * 10\n",
    "\n",
    "    return score"
   ]
  },
  {
   "cell_type": "code",
   "execution_count": 79,
   "metadata": {
    "collapsed": true
   },
   "outputs": [],
   "source": [
    "# Chosen year doesn't actually matter. Just picked 2017\n",
    "tourney_data = filterTourneyDataByYear(2017)\n",
    "scores = []\n",
    "for i in range(100000):\n",
    "    newScore = calcBracketScore(tourney_data)\n",
    "    scores.append(newScore)"
   ]
  },
  {
   "cell_type": "code",
   "execution_count": 80,
   "metadata": {},
   "outputs": [
    {
     "data": {
      "text/plain": [
       "100000"
      ]
     },
     "execution_count": 80,
     "metadata": {},
     "output_type": "execute_result"
    }
   ],
   "source": [
    "len(scores)"
   ]
  },
  {
   "cell_type": "code",
   "execution_count": 86,
   "metadata": {},
   "outputs": [
    {
     "data": {
      "text/plain": [
       "312.85000000000002"
      ]
     },
     "execution_count": 86,
     "metadata": {},
     "output_type": "execute_result"
    }
   ],
   "source": [
    "numpy.mean(scores)"
   ]
  },
  {
   "cell_type": "code",
   "execution_count": 87,
   "metadata": {},
   "outputs": [
    {
     "data": {
      "text/plain": [
       "1400"
      ]
     },
     "execution_count": 87,
     "metadata": {},
     "output_type": "execute_result"
    }
   ],
   "source": [
    "max(scores)"
   ]
  },
  {
   "cell_type": "code",
   "execution_count": 98,
   "metadata": {},
   "outputs": [
    {
     "data": {
      "text/plain": [
       "DescribeResult(nobs=100000, minmax=(50, 1400), mean=312.85000000000002, variance=18087.084370843706, skewness=1.999202728530008, kurtosis=6.409950833783562)"
      ]
     },
     "execution_count": 98,
     "metadata": {},
     "output_type": "execute_result"
    }
   ],
   "source": [
    "stats.describe(scores)"
   ]
  },
  {
   "cell_type": "code",
   "execution_count": 92,
   "metadata": {},
   "outputs": [
    {
     "data": {
      "text/plain": [
       "134.48755890416035"
      ]
     },
     "execution_count": 92,
     "metadata": {},
     "output_type": "execute_result"
    }
   ],
   "source": [
    "numpy.std(scores)"
   ]
  },
  {
   "cell_type": "code",
   "execution_count": 93,
   "metadata": {},
   "outputs": [
    {
     "name": "stdout",
     "output_type": "stream",
     "text": [
      "43.8748821917 581.825117808\n"
     ]
    }
   ],
   "source": [
    "print(numpy.mean(scores) - 2 * numpy.std(scores), numpy.mean(scores) + 2 * numpy.std(scores))"
   ]
  },
  {
   "cell_type": "code",
   "execution_count": 100,
   "metadata": {},
   "outputs": [
    {
     "data": {
      "text/plain": [
       "count    100000.000000\n",
       "mean        312.850000\n",
       "std         134.488231\n",
       "min          50.000000\n",
       "25%         230.000000\n",
       "50%         280.000000\n",
       "75%         360.000000\n",
       "max        1400.000000\n",
       "dtype: float64"
      ]
     },
     "execution_count": 100,
     "metadata": {},
     "output_type": "execute_result"
    }
   ],
   "source": [
    "x = pd.Series(scores)\n",
    "x.describe()"
   ]
  },
  {
   "cell_type": "code",
   "execution_count": null,
   "metadata": {
    "collapsed": true
   },
   "outputs": [],
   "source": []
  }
 ],
 "metadata": {
  "kernelspec": {
   "display_name": "Python 3",
   "language": "python",
   "name": "python3"
  },
  "language_info": {
   "codemirror_mode": {
    "name": "ipython",
    "version": 3
   },
   "file_extension": ".py",
   "mimetype": "text/x-python",
   "name": "python",
   "nbconvert_exporter": "python",
   "pygments_lexer": "ipython3",
   "version": "3.6.3"
  }
 },
 "nbformat": 4,
 "nbformat_minor": 2
}
