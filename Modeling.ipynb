{
 "cells": [
  {
   "cell_type": "code",
   "execution_count": 13,
   "metadata": {},
   "outputs": [],
   "source": [
    "import mm_predictor # stat-analysis library\n",
    "from sklearn import cross_validation, linear_model\n",
    "import csv\n",
    "import random\n",
    "import numpy as np\n",
    "import pandas as pd\n",
    "#from xgboost import XGBClassifier"
   ]
  },
  {
   "cell_type": "code",
   "execution_count": 14,
   "metadata": {
    "collapsed": true
   },
   "outputs": [],
   "source": [
    "# intialize stat & elo dictionaries\n",
    "mm_predictor.init()"
   ]
  },
  {
   "cell_type": "code",
   "execution_count": 15,
   "metadata": {
    "collapsed": true
   },
   "outputs": [],
   "source": [
    "# Load data\n",
    "season_data = pd.read_csv('./ncaa-data/RegularSeasonDetailedResults.csv')\n",
    "tourney_data = pd.read_csv('./ncaa-data/NCAATourneyDetailedResults.csv')\n",
    "tourney_data = tourney_data[tourney_data.Season != 2017]"
   ]
  },
  {
   "cell_type": "code",
   "execution_count": 16,
   "metadata": {},
   "outputs": [],
   "source": [
    "# season_data[season_data.Season == 2017]"
   ]
  },
  {
   "cell_type": "code",
   "execution_count": 17,
   "metadata": {
    "collapsed": true
   },
   "outputs": [],
   "source": [
    "aggregated_data = pd.concat([season_data, tourney_data])\n",
    "\n",
    "X,Y = mm_predictor.analyze_teams(aggregated_data)\n",
    "# Run script"
   ]
  },
  {
   "cell_type": "code",
   "execution_count": 18,
   "metadata": {},
   "outputs": [
    {
     "data": {
      "text/plain": [
       "LogisticRegression(C=1.0, class_weight=None, dual=False, fit_intercept=True,\n",
       "          intercept_scaling=1, max_iter=100, multi_class='ovr', n_jobs=1,\n",
       "          penalty='l2', random_state=None, solver='liblinear', tol=0.0001,\n",
       "          verbose=0, warm_start=False)"
      ]
     },
     "execution_count": 18,
     "metadata": {},
     "output_type": "execute_result"
    }
   ],
   "source": [
    "from sklearn.linear_model import LogisticRegression\n",
    "from sklearn.model_selection import train_test_split\n",
    "from sklearn.naive_bayes import GaussianNB\n",
    "from sklearn.pipeline import make_pipeline, make_union\n",
    "from sklearn.preprocessing import RobustScaler\n",
    "from sklearn.svm import LinearSVC\n",
    "from tpot.builtins import StackingEstimator\n",
    "from xgboost import XGBClassifier\n",
    "\n",
    "# NOTE: Make sure that the class is labeled 'target' in the data file\n",
    "# tpot_data = pd.read_csv('PATH/TO/DATA/FILE', sep='COLUMN_SEPARATOR', dtype=np.float64)\n",
    "# features = tpot_data.drop('target', axis=1).values\n",
    "# training_features, testing_features, training_target, testing_target = \\\n",
    "#             train_test_split(features, tpot_data['target'].values, random_state=42)\n",
    "\n",
    "# Score on the training set was:-0.5443811951009836\n",
    "exported_pipeline = make_pipeline(\n",
    "    StackingEstimator(estimator=XGBClassifier(learning_rate=0.01, max_depth=2, min_child_weight=4, n_estimators=100, nthread=1, subsample=0.15000000000000002)),\n",
    "    RobustScaler(),\n",
    "    StackingEstimator(estimator=GaussianNB()),\n",
    "    StackingEstimator(estimator=LinearSVC(C=15.0, dual=True, loss=\"hinge\", penalty=\"l2\", tol=0.0001)),\n",
    "    StackingEstimator(estimator=GaussianNB()),\n",
    "    LogisticRegression(C=5.0, dual=False, penalty=\"l1\")\n",
    ")\n",
    "exported_pipeline=LogisticRegression()\n",
    "exported_pipeline.fit(np.array(X), np.array(Y))\n"
   ]
  },
  {
   "cell_type": "code",
   "execution_count": 19,
   "metadata": {
    "collapsed": true
   },
   "outputs": [],
   "source": [
    "# Create id to team name mappings\n",
    "teamNames = pd.read_csv('./ncaa-data/Teams.csv')\n",
    "def teamIDNameMapping():\n",
    "    team_id_map = {}\n",
    "    for index, row in teamNames.iterrows():\n",
    "        team_id_map[row['TeamID']] = row['TeamName']\n",
    "    \n",
    "    return team_id_map\n",
    "\n",
    "team_id_map = teamIDNameMapping()"
   ]
  },
  {
   "cell_type": "code",
   "execution_count": 20,
   "metadata": {
    "collapsed": true
   },
   "outputs": [],
   "source": [
    "def WinChanceMapping(year):\n",
    "    \n",
    "    submission_data = []\n",
    "    tourney_seeds = pd.read_csv('./ncaa-data/TourneySeeds.csv')\n",
    "    tourney_teams = tourney_seeds[tourney_seeds['Season'] == year]['Team']\n",
    "\n",
    "    stat_fields = ['score', 'fga', 'fgp', 'fga3', '3pp', 'ftp', 'or', 'dr',\n",
    "                   'ast', 'to', 'stl', 'blk', 'pf']\n",
    "    \n",
    "    tourney_teams.sort_values()\n",
    "    \n",
    "    for team_1 in tourney_teams:\n",
    "        for team_2 in tourney_teams:\n",
    "            if team_1 != team_2:\n",
    "                prediction = mm_predictor.predict_winner(team_1, team_2, exported_pipeline, 2017, stat_fields)\n",
    "                label = '2017_' + str(team_1) + '_' + str(team_2)\n",
    "                submission_data.append([label, prediction[0][0]])\n",
    "    \n",
    "    \n",
    "    teamTeamWinChanceMap = {}\n",
    "    for line in submission_data:\n",
    "        title = line[0].split('_')\n",
    "        team1 = team_id_map[int(title[1])]\n",
    "        team2 = team_id_map[int(title[2])]\n",
    "        winRate = str(round(line[1]* 100,2))\n",
    "        if team1 not in teamTeamWinChanceMap:\n",
    "            teamTeamWinChanceMap[team1] = {}\n",
    "        if float(winRate) >= 50:\n",
    "            if team1 in teamTeamWinChanceMap and team2 in teamTeamWinChanceMap[team1] and teamTeamWinChanceMap[team1][team2] > float(winRate):\n",
    "                continue\n",
    "            if team2 in teamTeamWinChanceMap and team1 in teamTeamWinChanceMap[team2] and teamTeamWinChanceMap[team2][team1] < float(winRate):\n",
    "                # update teamTeammap[team2][team1] to remove that key\n",
    "                teamTeamWinChanceMap[team2].pop(team1, None)\n",
    "            teamTeamWinChanceMap[team1][team2] = float(winRate)\n",
    "            \n",
    "    return teamTeamWinChanceMap"
   ]
  },
  {
   "cell_type": "code",
   "execution_count": 21,
   "metadata": {
    "collapsed": true
   },
   "outputs": [],
   "source": [
    "# print(\"Writing %d results.\" % len(submission_data))\n",
    "# with open('./ncaa-data/submission.csv', 'w') as f:\n",
    "#     writer = csv.writer(f)\n",
    "#     writer.writerow(['id', 'pred'])\n",
    "#     writer.writerows(submission_data)\n",
    "\n",
    "chanceMap = WinChanceMapping(2017)"
   ]
  },
  {
   "cell_type": "code",
   "execution_count": 22,
   "metadata": {
    "collapsed": true
   },
   "outputs": [],
   "source": [
    "def filterTourneyDataByYear(year):\n",
    "\n",
    "    tourney_data = pd.read_csv('./ncaa-data/NCAATourneyDetailedResults.csv')\n",
    "    tourney_data = tourney_data[tourney_data.Season == year]\n",
    "    \n",
    "    return tourney_data\n",
    "\n",
    "def getWinnersList(tourney_data):\n",
    "    winners = []\n",
    "\n",
    "    tourney_data_grouped = tourney_data[4:].groupby('WTeamID').size().reset_index(name='NumWins')\n",
    "    for index, row in tourney_data_grouped.iterrows():\n",
    "        teamName = team_id_map[row['WTeamID']]\n",
    "        wins = row['NumWins']\n",
    "        if len(winners) == 0:\n",
    "            winners.append([])\n",
    "        winners[0].append(teamName)\n",
    "        if wins > 1:\n",
    "            if len(winners) == 1:\n",
    "                winners.append([])\n",
    "            winners[1].append(teamName)\n",
    "        if wins > 2:\n",
    "            if len(winners) == 2:\n",
    "                winners.append([])\n",
    "            winners[2].append(teamName)\n",
    "        if wins > 3:\n",
    "            if len(winners) == 3:\n",
    "                winners.append([])\n",
    "            winners[3].append(teamName)\n",
    "        if wins > 4:\n",
    "            if len(winners) == 4:\n",
    "                winners.append([])\n",
    "            winners[4].append(teamName)\n",
    "        if wins > 5:\n",
    "            if len(winners) == 5:\n",
    "                winners.append([])\n",
    "            winners[5].append(teamName)\n",
    "        if wins > 6:\n",
    "            if len(winners) == 6:\n",
    "                winners.append([])\n",
    "            winners[6].append(teamName)\n",
    "    \n",
    "    return winners"
   ]
  },
  {
   "cell_type": "code",
   "execution_count": 23,
   "metadata": {
    "collapsed": true
   },
   "outputs": [],
   "source": [
    "# Method that takes in season's tournament data, id to name mapping of teams\n",
    "def calcBracketScore(tourney_data, teamTeamWinChanceMap):\n",
    "    \n",
    "    winners = getWinnersList(tourney_data)\n",
    "    \n",
    "    # First four rows is 'first four' and not in actual bracket\n",
    "    firstFour = tourney_data[:4]\n",
    "    mainTourney = tourney_data[4:]\n",
    "    \n",
    "    tourney_seeds = pd.read_csv('./ncaa-data/TourneySeeds.csv')\n",
    "    \n",
    "    tourney = [-1] * max(tourney_seeds['Team'])\n",
    "\n",
    "    # Look at first four teams\n",
    "    for index, row in firstFour.iterrows():\n",
    "        index1 = int(row['WTeamID'])\n",
    "        index2 = int(row['LTeamID'])\n",
    "        team1Name = team_id_map[index1]\n",
    "        team2Name = team_id_map[index2]\n",
    "\n",
    "        if (team1Name in teamTeamWinChanceMap) and (team2Name in teamTeamWinChanceMap[team1Name]):\n",
    "            tourney[index2] = index1\n",
    "        else:\n",
    "            tourney[index1] = index2\n",
    "\n",
    "    # MAIN TOURNAMENT \n",
    "    score = 0\n",
    "    for index, row in mainTourney.iterrows():\n",
    "        index1 = int(row['WTeamID'])\n",
    "        index2 = int(row['LTeamID'])\n",
    "        while tourney[index1] > 0:\n",
    "            index1 = tourney[index1]\n",
    "        while tourney[index2] > 0:\n",
    "            index2 = tourney[index2]\n",
    "        team1Name = team_id_map[index1]\n",
    "        team2Name = team_id_map[index2]\n",
    "\n",
    "        if (team1Name in teamTeamWinChanceMap) and (team2Name in teamTeamWinChanceMap[team1Name]): # team1 would win\n",
    "            tourney[index2] = index1\n",
    "            tourney[index1] = tourney[index1] - 1\n",
    "            if team1Name in winners[abs(tourney[index1]) - 2]:\n",
    "                score += 2**(abs(tourney[index1]) - 2) * 10\n",
    "                print(team1Name + ' vs ' + team2Name + ', team 1 wins')\n",
    "                print('Score ' + str(2**(abs(tourney[index1]) - 2) * 10))\n",
    "            else: # Delete else statemenet when done debugging\n",
    "                print('Incorrect: Predicted ' + team1Name + ' vs ' + team2Name + ', team1 wins')\n",
    "\n",
    "        else: #team2 would win\n",
    "            tourney[index1] = index2\n",
    "            tourney[index2] = tourney[index2] - 1\n",
    "            if team2Name in winners[abs(tourney[index2]) - 2]:\n",
    "                score += 2**(abs(tourney[index2]) - 2) * 10\n",
    "                print(team1Name + ' vs ' + team2Name + ', team 2 wins')\n",
    "                print('Score ' + str(2**(abs(tourney[index1]) - 2) * 10))\n",
    "            else: # Delete else statement when done debugging\n",
    "                print('Incorrect: Predicted ' + team1Name + ' vs ' + team2Name + ', team2 wins')\n",
    "\n",
    "    return score"
   ]
  },
  {
   "cell_type": "code",
   "execution_count": 24,
   "metadata": {},
   "outputs": [
    {
     "name": "stdout",
     "output_type": "stream",
     "text": [
      "Arizona vs North Dakota, team 1 wins\n",
      "Score 10\n",
      "Butler vs Winthrop, team 1 wins\n",
      "Score 10\n",
      "Florida vs ETSU, team 1 wins\n",
      "Score 10\n",
      "Florida St vs FL Gulf Coast, team 1 wins\n",
      "Score 10\n",
      "Gonzaga vs S Dakota St, team 1 wins\n",
      "Score 10\n",
      "Iowa St vs Nevada, team 1 wins\n",
      "Score 10\n",
      "Incorrect: Predicted MTSU vs Minnesota, team2 wins\n",
      "Northwestern vs Vanderbilt, team 1 wins\n",
      "Score 10\n",
      "Notre Dame vs Princeton, team 1 wins\n",
      "Score 10\n",
      "Purdue vs Vermont, team 1 wins\n",
      "Score 10\n",
      "St Mary's CA vs VA Commonwealth, team 1 wins\n",
      "Score 10\n",
      "Villanova vs New Orleans, team 1 wins\n",
      "Score 10\n",
      "Virginia vs UNC Wilmington, team 1 wins\n",
      "Score 10\n",
      "West Virginia vs Bucknell, team 1 wins\n",
      "Score 10\n",
      "Wisconsin vs Virginia Tech, team 1 wins\n",
      "Score 10\n",
      "Xavier vs Maryland, team 1 wins\n",
      "Score 10\n",
      "Incorrect: Predicted Arkansas vs Seton Hall, team2 wins\n",
      "Baylor vs New Mexico St, team 1 wins\n",
      "Score 10\n",
      "Cincinnati vs Kansas St, team 1 wins\n",
      "Score 10\n",
      "Duke vs Troy, team 1 wins\n",
      "Score 10\n",
      "Kansas vs UC Davis, team 1 wins\n",
      "Score 10\n",
      "Kentucky vs N Kentucky, team 1 wins\n",
      "Score 10\n",
      "Louisville vs Jacksonville St, team 1 wins\n",
      "Score 10\n",
      "Incorrect: Predicted Michigan vs Oklahoma St, team2 wins\n",
      "Incorrect: Predicted Michigan St vs Miami FL, team2 wins\n",
      "North Carolina vs TX Southern, team 1 wins\n",
      "Score 10\n",
      "Oregon vs Iona, team 1 wins\n",
      "Score 10\n",
      "Incorrect: Predicted Rhode Island vs Creighton, team2 wins\n",
      "Incorrect: Predicted South Carolina vs Marquette, team2 wins\n",
      "UCLA vs Kent, team 1 wins\n",
      "Score 10\n",
      "Incorrect: Predicted USC vs SMU, team2 wins\n",
      "Wichita St vs Dayton, team 1 wins\n",
      "Score 10\n",
      "Arizona vs St Mary's CA, team 1 wins\n",
      "Score 20\n",
      "Butler vs Minnesota, team 1 wins\n",
      "Score 20\n",
      "Incorrect: Predicted Florida vs Virginia, team2 wins\n",
      "Gonzaga vs Northwestern, team 1 wins\n",
      "Score 20\n",
      "Incorrect: Predicted Purdue vs Iowa St, team2 wins\n",
      "West Virginia vs Notre Dame, team 1 wins\n",
      "Score 20\n",
      "Incorrect: Predicted Wisconsin vs Villanova, team2 wins\n",
      "Incorrect: Predicted Xavier vs Florida St, team2 wins\n",
      "Incorrect: Predicted Baylor vs SMU, team2 wins\n",
      "Kansas vs Miami FL, team 1 wins\n",
      "Score 20\n",
      "Kentucky vs Wichita St, team 1 wins\n",
      "Score 20\n",
      "Incorrect: Predicted Oklahoma St vs Louisville, team2 wins\n",
      "North Carolina vs Seton Hall, team 1 wins\n",
      "Score 20\n",
      "Oregon vs Creighton, team 1 wins\n",
      "Score 20\n",
      "Incorrect: Predicted Marquette vs Duke, team2 wins\n",
      "UCLA vs Cincinnati, team 1 wins\n",
      "Score 20\n",
      "Incorrect: Predicted Gonzaga vs West Virginia, team2 wins\n",
      "Kansas vs Iowa St, team 1 wins\n",
      "Score 40\n",
      "Incorrect: Predicted Oregon vs Louisville, team2 wins\n",
      "Incorrect: Predicted Florida St vs Arizona, team2 wins\n",
      "Incorrect: Predicted Virginia vs Villanova, team2 wins\n",
      "Kentucky vs UCLA, team 1 wins\n",
      "Score 40\n",
      "North Carolina vs Butler, team 1 wins\n",
      "Score 40\n",
      "Incorrect: Predicted Duke vs SMU, team1 wins\n",
      "Incorrect: Predicted West Virginia vs Arizona, team1 wins\n",
      "Incorrect: Predicted Louisville vs Kansas, team2 wins\n",
      "Incorrect: Predicted North Carolina vs Kentucky, team2 wins\n",
      "Incorrect: Predicted Duke vs Villanova, team2 wins\n",
      "Incorrect: Predicted West Virginia vs Villanova, team2 wins\n",
      "Incorrect: Predicted Kentucky vs Kansas, team1 wins\n",
      "Incorrect: Predicted Kentucky vs Villanova, team1 wins\n",
      "550\n"
     ]
    }
   ],
   "source": [
    "data_2017 = filterTourneyDataByYear(2017)\n",
    "data_2017\n",
    "print(calcBracketScore(data_2017, chanceMap))"
   ]
  },
  {
   "cell_type": "code",
   "execution_count": null,
   "metadata": {
    "collapsed": true
   },
   "outputs": [],
   "source": []
  },
  {
   "cell_type": "code",
   "execution_count": null,
   "metadata": {
    "collapsed": true
   },
   "outputs": [],
   "source": []
  }
 ],
 "metadata": {
  "kernelspec": {
   "display_name": "Python 3",
   "language": "python",
   "name": "python3"
  },
  "language_info": {
   "codemirror_mode": {
    "name": "ipython",
    "version": 3
   },
   "file_extension": ".py",
   "mimetype": "text/x-python",
   "name": "python",
   "nbconvert_exporter": "python",
   "pygments_lexer": "ipython3",
   "version": "3.6.3"
  }
 },
 "nbformat": 4,
 "nbformat_minor": 2
}
